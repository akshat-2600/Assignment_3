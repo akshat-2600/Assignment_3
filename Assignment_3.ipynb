{
 "cells": [
  {
   "cell_type": "code",
   "execution_count": 1,
   "id": "45d02a35-1c8d-476d-bac6-e6e88736f5ea",
   "metadata": {},
   "outputs": [],
   "source": [
    "# Basic level :"
   ]
  },
  {
   "cell_type": "code",
   "execution_count": 2,
   "id": "cbe84e35-10a6-496f-8eb3-68916b415c24",
   "metadata": {},
   "outputs": [
    {
     "name": "stdout",
     "output_type": "stream",
     "text": [
      "1\n",
      "2\n",
      "3\n",
      "4\n",
      "5\n",
      "6\n",
      "7\n",
      "8\n",
      "9\n",
      "10\n"
     ]
    }
   ],
   "source": [
    "'''Q1 Write a Python program to print the numbers from 1 to 10 using a `for` loop.'''\n",
    "\n",
    "for i in range(1,11) :\n",
    "    print(i)"
   ]
  },
  {
   "cell_type": "code",
   "execution_count": 4,
   "id": "212d7e3c-375f-482e-865c-f34ff279b52d",
   "metadata": {},
   "outputs": [
    {
     "name": "stdin",
     "output_type": "stream",
     "text": [
      "Enter a list : [1,2,3,4,5,6,7,8,9,10]\n"
     ]
    },
    {
     "name": "stdout",
     "output_type": "stream",
     "text": [
      "Sum of all numbers in list : 55\n"
     ]
    }
   ],
   "source": [
    "'''Q2 Create a program that calculates the sum of all numbers in a list using a `for` loop.'''\n",
    "\n",
    "lst = eval(input(\"Enter a list :\"))\n",
    "sum = 0\n",
    "for i in lst :\n",
    "    sum += i\n",
    "print(\"Sum of all numbers in list :\", sum)"
   ]
  },
  {
   "cell_type": "code",
   "execution_count": 5,
   "id": "cd7922cb-d3be-4f41-9975-f25428cc232e",
   "metadata": {},
   "outputs": [
    {
     "name": "stdin",
     "output_type": "stream",
     "text": [
      "Enter a string  Pw Skills\n"
     ]
    },
    {
     "name": "stdout",
     "output_type": "stream",
     "text": [
      "s\n",
      "l\n",
      "l\n",
      "i\n",
      "k\n",
      "S\n",
      " \n",
      "w\n",
      "P\n"
     ]
    }
   ],
   "source": [
    "'''Q3 Write a program to print the characters of a string in reverse order using a `for` loop.'''\n",
    "\n",
    "string = input(\"Enter a string \")\n",
    "for char in string[::-1] :\n",
    "    print(char)"
   ]
  },
  {
   "cell_type": "code",
   "execution_count": 13,
   "id": "5a05a858-3389-4100-8f5c-a7060f92ade5",
   "metadata": {},
   "outputs": [
    {
     "name": "stdin",
     "output_type": "stream",
     "text": [
      "Enter a number : 7\n"
     ]
    },
    {
     "name": "stdout",
     "output_type": "stream",
     "text": [
      "Factorial of  7 :  5040\n"
     ]
    }
   ],
   "source": [
    "'''Q4 Develop a program that finds the factorial of a given number using a `for` loop.'''\n",
    "\n",
    "def fact_num(n) :\n",
    "    product = 1\n",
    "    if 0 <= n <= 1 :\n",
    "        return 1\n",
    "    else :\n",
    "        for i in range(2,n+1) :\n",
    "            product *= i\n",
    "        return product\n",
    "    \n",
    "n = int(input(\"Enter a number :\"))\n",
    "factorial = fact_num(n)\n",
    "print(\"Factorial of \",n ,\": \", factorial)"
   ]
  },
  {
   "cell_type": "code",
   "execution_count": 14,
   "id": "e2b49498-5b96-48d3-9e3d-4d9d23348e8d",
   "metadata": {},
   "outputs": [
    {
     "name": "stdin",
     "output_type": "stream",
     "text": [
      "Enter number for which you want multiplication table : 19\n"
     ]
    },
    {
     "name": "stdout",
     "output_type": "stream",
     "text": [
      "19 x 1 = 19\n",
      "19 x 2 = 38\n",
      "19 x 3 = 57\n",
      "19 x 4 = 76\n",
      "19 x 5 = 95\n",
      "19 x 6 = 114\n",
      "19 x 7 = 133\n",
      "19 x 8 = 152\n",
      "19 x 9 = 171\n",
      "19 x 10 = 190\n"
     ]
    }
   ],
   "source": [
    "'''Q5 Create a program to print the multiplication table of a given number using a `for` loop.'''\n",
    "\n",
    "n = int(input(\"Enter number for which you want multiplication table :\"))\n",
    "for i in range(1,11) :\n",
    "    print(f\"{n} x {i} = {n*i}\")"
   ]
  },
  {
   "cell_type": "code",
   "execution_count": 15,
   "id": "24886a4d-0e51-40f3-97e7-29282df02fc7",
   "metadata": {},
   "outputs": [
    {
     "name": "stdin",
     "output_type": "stream",
     "text": [
      "Enter a list : [1,2,3,4,5,6,7,8,9,10,11,34]\n"
     ]
    },
    {
     "name": "stdout",
     "output_type": "stream",
     "text": [
      "Number of odd numbers in list : 6\n",
      "Number of even numbers in list : 6\n"
     ]
    }
   ],
   "source": [
    "'''Q6 Write a program that counts the number of even and odd numbers in a list using a `for` loop.'''\n",
    "\n",
    "count_even = 0\n",
    "count_odd = 0\n",
    "lst = eval(input(\"Enter a list :\"))\n",
    "for i in lst :\n",
    "    if i%2 == 0 :\n",
    "        count_even += 1\n",
    "    if i%2 != 0 :\n",
    "        count_odd += 1\n",
    "print(\"Number of odd numbers in list :\", count_odd)\n",
    "print(\"Number of even numbers in list :\", count_even)"
   ]
  },
  {
   "cell_type": "code",
   "execution_count": 16,
   "id": "682f7235-caea-4f89-8b35-cd789fa1fc41",
   "metadata": {},
   "outputs": [
    {
     "name": "stdout",
     "output_type": "stream",
     "text": [
      "Squares of numbers from 1 to 5 :\n",
      "1\n",
      "4\n",
      "9\n",
      "16\n",
      "25\n"
     ]
    }
   ],
   "source": [
    "'''Q7 Develop a program that prints the squares of numbers from 1 to 5 using a `for` loop.'''\n",
    "\n",
    "print(\"Squares of numbers from 1 to 5 :\")\n",
    "for i in range(1,6) :\n",
    "    print(i**2)"
   ]
  },
  {
   "cell_type": "code",
   "execution_count": 17,
   "id": "beeddafe-f615-4f08-a8f3-2fd723d23371",
   "metadata": {},
   "outputs": [
    {
     "name": "stdin",
     "output_type": "stream",
     "text": [
      "Enter a string : Akshat Saxena\n"
     ]
    },
    {
     "name": "stdout",
     "output_type": "stream",
     "text": [
      "Length of string : 13\n"
     ]
    }
   ],
   "source": [
    "'''Q8 Create a program to find the length of a string without using the `len()` function.'''\n",
    "\n",
    "length = 0\n",
    "string = input(\"Enter a string :\")\n",
    "for i in string :\n",
    "    length += 1\n",
    "    \n",
    "print(\"Length of string :\", length)"
   ]
  },
  {
   "cell_type": "code",
   "execution_count": 18,
   "id": "b2b2fb23-c99d-447a-ade5-bcb04dee34ad",
   "metadata": {},
   "outputs": [
    {
     "name": "stdin",
     "output_type": "stream",
     "text": [
      "Enter a list : [1,2,3,4,5,6,7,8,9,10]\n"
     ]
    },
    {
     "name": "stdout",
     "output_type": "stream",
     "text": [
      "Average of list of numbers : 5.5\n"
     ]
    }
   ],
   "source": [
    "'''Q9 Write a program that calculates the average of a list of numbers using a `for` loop.'''\n",
    "\n",
    "sum = 0\n",
    "lst = eval(input(\"Enter a list :\"))\n",
    "for i in lst :\n",
    "    sum += i\n",
    "    \n",
    "avg = sum/len(lst)\n",
    "print(\"Average of list of numbers :\", avg)"
   ]
  },
  {
   "cell_type": "code",
   "execution_count": 19,
   "id": "e8e8441e-70b0-451d-9099-db788154bd55",
   "metadata": {},
   "outputs": [
    {
     "name": "stdin",
     "output_type": "stream",
     "text": [
      "Enter number of Fibonacci numbers you want : 10\n"
     ]
    },
    {
     "name": "stdout",
     "output_type": "stream",
     "text": [
      "First 10 Fibonacci numbers :\n",
      "0\n",
      "1\n",
      "1\n",
      "2\n",
      "3\n",
      "5\n",
      "8\n",
      "13\n",
      "21\n",
      "34\n"
     ]
    }
   ],
   "source": [
    "'''Q10 Develop a program that prints the first `n` Fibonacci numbers using a `for` loop.'''\n",
    "\n",
    "a,b = 0,1   #initializing 1st two fibonacci numbers\n",
    "n = int(input(\"Enter number of Fibonacci numbers you want :\"))\n",
    "print(\"First\", n ,\"Fibonacci numbers :\")\n",
    "for i in range(n) :\n",
    "    print(a)\n",
    "    a,b = b,a+b"
   ]
  },
  {
   "cell_type": "code",
   "execution_count": null,
   "id": "edb890de-337d-4105-b159-e9f48e76ef5b",
   "metadata": {},
   "outputs": [],
   "source": []
  },
  {
   "cell_type": "code",
   "execution_count": 20,
   "id": "c2899482-84ef-4477-9657-eb1fbb37e2fc",
   "metadata": {},
   "outputs": [],
   "source": [
    "# Intermediate Level:"
   ]
  },
  {
   "cell_type": "code",
   "execution_count": 24,
   "id": "0d697f0d-9372-4fb2-8c25-915907343c80",
   "metadata": {},
   "outputs": [
    {
     "name": "stdin",
     "output_type": "stream",
     "text": [
      "Enter a list : [1,2,3,4,5,6,7,8,2,3,1]\n"
     ]
    },
    {
     "name": "stdout",
     "output_type": "stream",
     "text": [
      "Given list contains duplicate entries\n"
     ]
    }
   ],
   "source": [
    "'''Q11 Write a program to check if a given list contains any duplicates using a `for` loop.'''\n",
    "\n",
    "lst = eval(input(\"Enter a list :\"))\n",
    "new_lst = []\n",
    "for i in lst :\n",
    "    if i in new_lst :\n",
    "        print(\"Given list contains duplicate entries\")\n",
    "        break\n",
    "    else :\n",
    "        new_lst.append(i)\n",
    "else :\n",
    "    print(\"Given list does not have any duplicate entries\")"
   ]
  },
  {
   "cell_type": "code",
   "execution_count": 29,
   "id": "2e64110b-26a2-4d7f-9f9b-75f9b7946cfe",
   "metadata": {},
   "outputs": [
    {
     "name": "stdin",
     "output_type": "stream",
     "text": [
      "Enter uppper limit of range : 50\n",
      "Enter lower limit of range : 100\n"
     ]
    },
    {
     "name": "stdout",
     "output_type": "stream",
     "text": [
      "Prime numbers in range(50,100) :\n",
      "53\n",
      "59\n",
      "61\n",
      "67\n",
      "71\n",
      "73\n",
      "79\n",
      "83\n",
      "89\n",
      "97\n"
     ]
    }
   ],
   "source": [
    "'''Q12 Create a program that prints the prime numbers in a given range using a `for` loop.'''\n",
    "\n",
    "def check_prime(num):\n",
    "    if num <= 1:\n",
    "        return False\n",
    "    for i in range(2, int(num ** 0.5) + 1) :\n",
    "        if num % i == 0 :\n",
    "            return False\n",
    "    return True\n",
    "\n",
    "a = int(input(\"Enter uppper limit of range :\"))\n",
    "b = int(input(\"Enter lower limit of range :\"))\n",
    "print(f\"Prime numbers in range({a},{b}) :\")\n",
    "\n",
    "for i in range(a,b+1) :\n",
    "    if check_prime(i) :\n",
    "        print(i)"
   ]
  },
  {
   "cell_type": "code",
   "execution_count": 30,
   "id": "e954b381-1e58-4fa8-b050-f7d0c3236045",
   "metadata": {},
   "outputs": [
    {
     "name": "stdin",
     "output_type": "stream",
     "text": [
      "Enter a string : My name is AKSHAT SAXENA .\n"
     ]
    },
    {
     "name": "stdout",
     "output_type": "stream",
     "text": [
      "Number of vowels in string : 8\n"
     ]
    }
   ],
   "source": [
    "'''Q13 Develop a program that counts the number of vowels in a string using a `for` loop.'''\n",
    "\n",
    "count_vowel = 0\n",
    "string = input(\"Enter a string :\")\n",
    "for char in string :\n",
    "    if char.lower() in [\"a\",\"e\",\"i\",\"o\",\"u\"] :\n",
    "        count_vowel += 1\n",
    "print(\"Number of vowels in string :\", count_vowel)"
   ]
  },
  {
   "cell_type": "code",
   "execution_count": 31,
   "id": "84a9243d-f0fe-4d10-99bd-fbf0280ddce2",
   "metadata": {},
   "outputs": [
    {
     "name": "stdin",
     "output_type": "stream",
     "text": [
      "Enter a 2D list : [[1,2,3],56,[4,5],[67,89,6785,3],3,5]\n"
     ]
    },
    {
     "name": "stdout",
     "output_type": "stream",
     "text": [
      "Maximum element in 2D list : 6785\n"
     ]
    }
   ],
   "source": [
    "'''Q14 Write a program to find the maximum element in a 2D list using a nested `for` loop.'''\n",
    "\n",
    "lst_nested = eval(input(\"Enter a 2D list :\"))   \n",
    "max_lst = []                                    #candidates for maximum value list\n",
    "for lst in lst_nested :\n",
    "    \n",
    "    if type(lst) == type([]) :\n",
    "        max_lst.append(max(lst))\n",
    "    else :\n",
    "        max_lst.append(lst)\n",
    "\n",
    "max_num = max(max_lst)\n",
    "print(\"Maximum element in 2D list :\", max_num)        "
   ]
  },
  {
   "cell_type": "code",
   "execution_count": 32,
   "id": "3c3f42b2-c570-4e9a-8dba-3494cfbadc5e",
   "metadata": {},
   "outputs": [
    {
     "name": "stdin",
     "output_type": "stream",
     "text": [
      "Enter a list : [1,2,3,1,4,5,1,3,4,1,7,8,9,1,8,1,1,1,9,80]\n",
      "Enter element which you want to remove : 1\n"
     ]
    },
    {
     "name": "stdout",
     "output_type": "stream",
     "text": [
      "List after removing 1 : [2, 3, 4, 5, 3, 4, 7, 8, 9, 8, 9, 80]\n"
     ]
    }
   ],
   "source": [
    "'''Q15 Create a program that removes all occurrences of a specific element from a list using a `for` loop.'''\n",
    "\n",
    "lst = eval(input(\"Enter a list :\"))\n",
    "new_lst = lst.copy()\n",
    "element = int(input(\"Enter element which you want to remove :\"))\n",
    "for i in new_lst :\n",
    "    if i == element :\n",
    "        lst.remove(i)\n",
    "print(f\"List after removing {element} : {lst}\")       "
   ]
  },
  {
   "cell_type": "code",
   "execution_count": 2,
   "id": "c5fb6e22-c7f6-4984-ac93-f624c18104fc",
   "metadata": {},
   "outputs": [
    {
     "name": "stdout",
     "output_type": "stream",
     "text": [
      "Multiplication Table of 1 :\n",
      "1 x 1 = 1\n",
      "1 x 2 = 2\n",
      "1 x 3 = 3\n",
      "1 x 4 = 4\n",
      "1 x 5 = 5\n",
      "1 x 6 = 6\n",
      "1 x 7 = 7\n",
      "1 x 8 = 8\n",
      "1 x 9 = 9\n",
      "1 x 10 = 10\n",
      "Multiplication Table of 2 :\n",
      "2 x 1 = 2\n",
      "2 x 2 = 4\n",
      "2 x 3 = 6\n",
      "2 x 4 = 8\n",
      "2 x 5 = 10\n",
      "2 x 6 = 12\n",
      "2 x 7 = 14\n",
      "2 x 8 = 16\n",
      "2 x 9 = 18\n",
      "2 x 10 = 20\n",
      "Multiplication Table of 3 :\n",
      "3 x 1 = 3\n",
      "3 x 2 = 6\n",
      "3 x 3 = 9\n",
      "3 x 4 = 12\n",
      "3 x 5 = 15\n",
      "3 x 6 = 18\n",
      "3 x 7 = 21\n",
      "3 x 8 = 24\n",
      "3 x 9 = 27\n",
      "3 x 10 = 30\n",
      "Multiplication Table of 4 :\n",
      "4 x 1 = 4\n",
      "4 x 2 = 8\n",
      "4 x 3 = 12\n",
      "4 x 4 = 16\n",
      "4 x 5 = 20\n",
      "4 x 6 = 24\n",
      "4 x 7 = 28\n",
      "4 x 8 = 32\n",
      "4 x 9 = 36\n",
      "4 x 10 = 40\n",
      "Multiplication Table of 5 :\n",
      "5 x 1 = 5\n",
      "5 x 2 = 10\n",
      "5 x 3 = 15\n",
      "5 x 4 = 20\n",
      "5 x 5 = 25\n",
      "5 x 6 = 30\n",
      "5 x 7 = 35\n",
      "5 x 8 = 40\n",
      "5 x 9 = 45\n",
      "5 x 10 = 50\n"
     ]
    }
   ],
   "source": [
    "'''Q16 Develop a program that generates a multiplication table for numbers from 1 to 5 using a nested \n",
    "       `for` loop.'''\n",
    "\n",
    "for num in range(1,6) :\n",
    "    print(f\"Multiplication Table of {num} :\")\n",
    "    for ele in range(1,11) :\n",
    "        print(f\"{num} x {ele} = {num*ele}\")"
   ]
  },
  {
   "cell_type": "code",
   "execution_count": 3,
   "id": "536d3fd1-7988-449e-96c6-3d00903d7486",
   "metadata": {},
   "outputs": [
    {
     "name": "stdin",
     "output_type": "stream",
     "text": [
      "Enter a Fahrenheit temperatures list : [32,45,67,100,67,150]\n"
     ]
    },
    {
     "name": "stdout",
     "output_type": "stream",
     "text": [
      "List of Celsius Temperatures : [-17.77777777777778, -17.22222222222222, -16.666666666666668, -16.11111111111111, -15.555555555555557, -15.0]\n"
     ]
    }
   ],
   "source": [
    "'''Q17 Write a program that converts a list of Fahrenheit temperatures to Celsius using a `for` loop.'''\n",
    "\n",
    "fah_list = eval(input(\"Enter a Fahrenheit temperatures list :\"))\n",
    "cel_list = []\n",
    "\n",
    "for fah_temp in range(len(fah_list)) :\n",
    "    cel_temp = (fah_temp - 32) * (5/9)\n",
    "    cel_list.append(cel_temp)\n",
    "    \n",
    "print(\"List of Celsius Temperatures :\", cel_list)"
   ]
  },
  {
   "cell_type": "code",
   "execution_count": 25,
   "id": "413faefe-f72c-4697-9426-a347cc1ee007",
   "metadata": {},
   "outputs": [
    {
     "name": "stdin",
     "output_type": "stream",
     "text": [
      "Enter 1st list : [1,2,3,4,5,6,7,8,9,10,2]\n",
      "Enter 2nd list : [2,4,6,8,10]\n"
     ]
    },
    {
     "name": "stdout",
     "output_type": "stream",
     "text": [
      "Common elements between two lists :\n",
      "2\n",
      "4\n",
      "6\n",
      "8\n",
      "10\n"
     ]
    }
   ],
   "source": [
    "'''Q18 Create a program to print the common elements from two lists using a `for` loop.'''\n",
    "\n",
    "lst_1 = eval(input(\"Enter 1st list :\"))\n",
    "lst_2 = eval(input(\"Enter 2nd list :\"))\n",
    "new_lst = []\n",
    "print(\"Common elements between two lists :\")\n",
    "for i in lst_1 :\n",
    "    for j in lst_2 :\n",
    "        if i == j :\n",
    "            if i in new_lst :\n",
    "                continue\n",
    "            else :\n",
    "                new_lst.append(i)\n",
    "if len(new_lst) == 0 :\n",
    "    print(\"No element is common\")\n",
    "for i in new_lst :\n",
    "    print(i)"
   ]
  },
  {
   "cell_type": "code",
   "execution_count": 23,
   "id": "ad0bc979-3ea1-4183-8fe6-9a4e417a2522",
   "metadata": {},
   "outputs": [
    {
     "name": "stdin",
     "output_type": "stream",
     "text": [
      "For how many rows you want to expand right angle triangle : 10\n"
     ]
    },
    {
     "name": "stdout",
     "output_type": "stream",
     "text": [
      "*\n",
      "**\n",
      "***\n",
      "****\n",
      "*****\n",
      "******\n",
      "*******\n",
      "********\n",
      "*********\n",
      "**********\n"
     ]
    }
   ],
   "source": [
    "'''Q19 Develop a program that prints the pattern of right-angled triangles using a `for` loop. Use ‘*’ to draw the\n",
    "pattern.'''\n",
    "\n",
    "n = int(input(\"For how many rows you want to expand right angle triangle :\"))\n",
    "for i in range(1,n+1) :\n",
    "    for j in range(i) :\n",
    "        print(\"*\" , end = \"\")\n",
    "    print()"
   ]
  },
  {
   "cell_type": "code",
   "execution_count": 28,
   "id": "8ed5f133-7470-452b-bb94-1d74fe844101",
   "metadata": {},
   "outputs": [
    {
     "name": "stdin",
     "output_type": "stream",
     "text": [
      "Enter 1st number : 56\n",
      "Enter 2nd number : 78\n"
     ]
    },
    {
     "name": "stdout",
     "output_type": "stream",
     "text": [
      "GCD of 56 & 78 : 2\n"
     ]
    }
   ],
   "source": [
    "'''Q20 Write a program to find the greatest common divisor (GCD) of two numbers using a `for` loop.'''\n",
    "\n",
    "from functools import reduce \n",
    "\n",
    "num_1 = int(input(\"Enter 1st number :\"))\n",
    "num_2 = int(input(\"Enter 2nd number :\"))\n",
    "a = num_1\n",
    "num_1_lst = []\n",
    "b = num_2\n",
    "num_2_lst = []\n",
    "common_factors_lst = []\n",
    "\n",
    "for i in range(1,num_1 + 1) :\n",
    "    if a%i == 0 :\n",
    "        num_1_lst.append(i)\n",
    "\n",
    "for j in range(1,num_2 + 1) :\n",
    "    if b%j == 0 :\n",
    "        num_2_lst.append(j)\n",
    "        \n",
    "\n",
    "common_lst = []\n",
    "for ele_1 in num_1_lst :\n",
    "    for ele_2 in num_2_lst :\n",
    "        if ele_1 == ele_2 :\n",
    "            if ele_1 in common_factors_lst :\n",
    "                continue\n",
    "            else :\n",
    "                common_factors_lst.append(ele_1)\n",
    "gcd = max(common_factors_lst)\n",
    "print(f\"GCD of {num_1} & {num_2} : {gcd}\")"
   ]
  },
  {
   "cell_type": "code",
   "execution_count": null,
   "id": "6fe07859-0054-4f84-8df1-8da04d552dd6",
   "metadata": {},
   "outputs": [],
   "source": []
  },
  {
   "cell_type": "code",
   "execution_count": 1,
   "id": "34640d5b-fdfb-4a4f-8734-76fc8c087be7",
   "metadata": {},
   "outputs": [],
   "source": [
    "# Advanced Level:"
   ]
  },
  {
   "cell_type": "code",
   "execution_count": 3,
   "id": "dd10244b-95a7-4f1f-af38-2bdee0ad70f7",
   "metadata": {},
   "outputs": [
    {
     "name": "stdin",
     "output_type": "stream",
     "text": [
      "Enter a list of numbers : [23,45,678,4536,46632,789,12233]\n"
     ]
    },
    {
     "name": "stdout",
     "output_type": "stream",
     "text": [
      "The sum of the digits of numbers in a list : [5, 9, 21, 18, 21, 24, 11]\n"
     ]
    }
   ],
   "source": [
    "'''Q21 Create a program that calculates the sum of the digits of numbers in a list using a list comprehension.'''\n",
    "\n",
    "def sum_of_digits(n):\n",
    "    return sum(int(digit) for digit in str(n))\n",
    "\n",
    "lst = eval(input(\"Enter a list of numbers :\"))\n",
    "sums = [sum_of_digits(number) for number in lst]\n",
    "\n",
    "print(\"The sum of the digits of numbers in a list :\", sums)"
   ]
  },
  {
   "cell_type": "code",
   "execution_count": 1,
   "id": "f8679cf1-d954-4830-ad26-0420eb688849",
   "metadata": {},
   "outputs": [
    {
     "name": "stdin",
     "output_type": "stream",
     "text": [
      "Enter a number : 24\n"
     ]
    },
    {
     "name": "stdout",
     "output_type": "stream",
     "text": [
      "Prime factors of 24 :\n",
      "1\n",
      "2\n",
      "3\n",
      "4\n",
      "6\n",
      "8\n",
      "12\n",
      "24\n",
      "                                           OR\n"
     ]
    },
    {
     "name": "stdin",
     "output_type": "stream",
     "text": [
      "Enter a number : 57\n"
     ]
    },
    {
     "name": "stdout",
     "output_type": "stream",
     "text": [
      "Prime factors of 57 :\n",
      "1\n",
      "3\n",
      "19\n",
      "57\n"
     ]
    }
   ],
   "source": [
    "'''Q22 Write a program to find the prime factors of a given number using a `for` loop and list comprehension.'''\n",
    "\n",
    "num = int(input(\"Enter a number :\"))\n",
    "a = num\n",
    "num_lst = []\n",
    "\n",
    "for i in range(1,num + 1) :\n",
    "    if a%i == 0 :\n",
    "        num_lst.append(i)\n",
    "\n",
    "print(f\"Prime factors of {num} :\")\n",
    "for i in num_lst :\n",
    "    print(i)\n",
    "    \n",
    "    \n",
    "print(\"                                           OR\")\n",
    "\n",
    "'''USING LIST COMPREHENSION'''\n",
    "\n",
    "n = int(input(\"Enter a number :\"))\n",
    "b = n\n",
    "prime_lst = [i for i in range(1,n + 1) if b%i == 0]\n",
    "\n",
    "print(f\"Prime factors of {n} :\")\n",
    "for j in prime_lst :\n",
    "    print(j)"
   ]
  },
  {
   "cell_type": "code",
   "execution_count": 2,
   "id": "0b92752e-7ac9-44ab-b42b-e8adfe5091af",
   "metadata": {},
   "outputs": [
    {
     "name": "stdin",
     "output_type": "stream",
     "text": [
      "Enter a list : [1,2,3,4,2,3,56,7,8,4,3,45,90,23,23,1,1,24,556,56]\n"
     ]
    },
    {
     "name": "stdout",
     "output_type": "stream",
     "text": [
      "Unique elements of list : [1, 2, 3, 4, 56, 7, 8, 45, 90, 23, 24, 556]\n"
     ]
    }
   ],
   "source": [
    "'''Q23 Develop a program that extracts unique elements from a list and stores them in a new list using a list\n",
    "comprehension.'''\n",
    "\n",
    "lst = eval(input(\"Enter a list :\"))\n",
    "unique_lst = []\n",
    "new_lst = [unique_lst.append(i) for i in lst if i not in unique_lst]\n",
    "print(\"Unique elements of list :\", unique_lst)"
   ]
  },
  {
   "cell_type": "code",
   "execution_count": 17,
   "id": "2bd1b938-9216-4d91-84ed-fac8bb26554b",
   "metadata": {},
   "outputs": [
    {
     "name": "stdin",
     "output_type": "stream",
     "text": [
      "Enter the limit of palindronic numbers : 1000\n"
     ]
    },
    {
     "name": "stdout",
     "output_type": "stream",
     "text": [
      "List of palindronic numbers upto 1000 :\n",
      "[0, 1, 2, 3, 4, 5, 6, 7, 8, 9, 11, 22, 33, 44, 55, 66, 77, 88, 99, 101, 111, 121, 131, 141, 151, 161, 171, 181, 191, 202, 212, 222, 232, 242, 252, 262, 272, 282, 292, 303, 313, 323, 333, 343, 353, 363, 373, 383, 393, 404, 414, 424, 434, 444, 454, 464, 474, 484, 494, 505, 515, 525, 535, 545, 555, 565, 575, 585, 595, 606, 616, 626, 636, 646, 656, 666, 676, 686, 696, 707, 717, 727, 737, 747, 757, 767, 777, 787, 797, 808, 818, 828, 838, 848, 858, 868, 878, 888, 898, 909, 919, 929, 939, 949, 959, 969, 979, 989, 999]\n"
     ]
    }
   ],
   "source": [
    "'''Q24 Create a program that generates a list of all palindromic numbers up to a specified limit using a list\n",
    "comprehension.'''\n",
    "\n",
    "limit = int(input(\"Enter the limit of palindronic numbers :\"))\n",
    "palindronic_lst = [i for i in range(limit+1) if str(i) == str(i)[::-1]]\n",
    "print(\"List of palindronic numbers upto\", limit,\":\")\n",
    "print(palindronic_lst)"
   ]
  },
  {
   "cell_type": "code",
   "execution_count": 20,
   "id": "512b9ddf-442d-45e6-b261-c2d49790a0e7",
   "metadata": {},
   "outputs": [
    {
     "name": "stdin",
     "output_type": "stream",
     "text": [
      "Enter a nested list [2,3,4,[\"hello\",\"hi\"],[4,56,7],23]\n"
     ]
    },
    {
     "name": "stdout",
     "output_type": "stream",
     "text": [
      "Flatten list : [2, 3, 4, 'hello', 'hi', 4, 56, 7, 23]\n"
     ]
    }
   ],
   "source": [
    "'''Q25 Write a program to flatten a nested list using list comprehension.'''\n",
    "\n",
    "nested_lst = eval(input(\"Enter a nested list\"))\n",
    "simple_lst = []\n",
    "lst = [simple_lst.extend(lst) if type(lst) == type([]) else simple_lst.append(lst) for lst in nested_lst ]\n",
    "print(\"Flatten list :\", simple_lst)"
   ]
  },
  {
   "cell_type": "code",
   "execution_count": 21,
   "id": "7f1bc837-c239-46b0-8fc8-09ac01cb02b4",
   "metadata": {},
   "outputs": [
    {
     "name": "stdin",
     "output_type": "stream",
     "text": [
      "Enter a list of numbers : [1,2,3,4,5,6,7,8,9,10]\n"
     ]
    },
    {
     "name": "stdout",
     "output_type": "stream",
     "text": [
      "List of even numbers : [2, 4, 6, 8, 10]\n",
      "List of odd numbers : [1, 3, 5, 7, 9]\n"
     ]
    }
   ],
   "source": [
    "'''Q26 Develop a program that computes the sum of even and odd numbers in a list separately using list\n",
    "comprehension.'''\n",
    "\n",
    "lst = eval(input(\"Enter a list of numbers :\"))\n",
    "even_lst = []\n",
    "odd_lst = []\n",
    "new_lst = [even_lst.append(ele) if ele%2 == 0 else odd_lst.append(ele) for ele in lst]\n",
    "\n",
    "print(\"List of even numbers :\", even_lst)\n",
    "print(\"List of odd numbers :\", odd_lst)"
   ]
  },
  {
   "cell_type": "code",
   "execution_count": 25,
   "id": "4725663b-8018-4d8f-83a8-6bd1102ebd0c",
   "metadata": {},
   "outputs": [
    {
     "name": "stdout",
     "output_type": "stream",
     "text": [
      "List of squares of odd numbers between 1 and 10 : [1, 9, 25, 49, 81]\n"
     ]
    }
   ],
   "source": [
    "'''Q27 Create a program that generates a list of squares of odd numbers between 1 and 10 using list\n",
    "comprehension.'''\n",
    "\n",
    "\n",
    "square_of_lst = [i**2 for i in range(1,11) if i%2 != 0]\n",
    "print(\"List of squares of odd numbers between 1 and 10 :\", square_of_lst)"
   ]
  },
  {
   "cell_type": "code",
   "execution_count": 15,
   "id": "58d5e7dc-9fe3-47be-a18a-f64302a63e1d",
   "metadata": {},
   "outputs": [
    {
     "name": "stdout",
     "output_type": "stream",
     "text": [
      "Both lists size should be same\n"
     ]
    },
    {
     "name": "stdin",
     "output_type": "stream",
     "text": [
      "Enter a list of keys : [1,2,3,4,5,6,7,8,9,10]\n",
      "Enter a list of values : [\"a\",\"b\",\"c\",\"d\",\"e\",\"f\",\"g\",\"h\",\"i\",\"j\"]\n"
     ]
    },
    {
     "name": "stdout",
     "output_type": "stream",
     "text": [
      "Combined two lists into a dictionary : {1: 'a', 2: 'b', 3: 'c', 4: 'd', 5: 'e', 6: 'f', 7: 'g', 8: 'h', 9: 'i', 10: 'j'}\n"
     ]
    }
   ],
   "source": [
    "'''Q28 Write a program that combines two lists into a dictionary using list comprehension.'''\n",
    "\n",
    "print(\"Both lists size should be same\")\n",
    "keys_lst = eval(input(\"Enter a list of keys :\"))\n",
    "values_lst = eval(input(\"Enter a list of values :\"))\n",
    "new_lst = keys_lst + values_lst\n",
    "dic = dict()\n",
    "\n",
    "dict_lst = [dic.update({new_lst[i] : new_lst[len(new_lst)//2 + i]}) for i in range(len(new_lst)//2)  ]\n",
    "print(\"Combined two lists into a dictionary :\", dic)"
   ]
  },
  {
   "cell_type": "code",
   "execution_count": 27,
   "id": "3d0e2f1e-5f7c-4120-b244-62c6917a14e3",
   "metadata": {},
   "outputs": [
    {
     "name": "stdin",
     "output_type": "stream",
     "text": [
      "Enter a string My name is AKSHAT SAXENA .\n"
     ]
    },
    {
     "name": "stdout",
     "output_type": "stream",
     "text": [
      "List of vowels from string : ['a', 'e', 'i', 'A', 'A', 'A', 'E', 'A']\n"
     ]
    }
   ],
   "source": [
    "'''Q29 Develop a program that extracts the vowels from a string and stores them in a list using list\n",
    "   comprehension.'''\n",
    "\n",
    "string = input(\"Enter a string\")\n",
    "vowel_lst = [\"a\",\"e\",\"i\",\"o\",\"u\"]\n",
    "string_vowel_lst = [alph for alph in string if alph.lower() in vowel_lst]\n",
    "print(\"List of vowels from string :\", string_vowel_lst)"
   ]
  },
  {
   "cell_type": "code",
   "execution_count": 44,
   "id": "8bf7a2e8-87a1-4312-b301-6c953d763e54",
   "metadata": {},
   "outputs": [
    {
     "name": "stdin",
     "output_type": "stream",
     "text": [
      "Enter a list of strings [\"My\",\"Name1\",\"GO45\",\"234\",\"akshat78\"]\n"
     ]
    },
    {
     "name": "stdout",
     "output_type": "stream",
     "text": [
      "[1, 4, 5, 2, 3, 4, 7, 8]\n"
     ]
    }
   ],
   "source": [
    "'''Q30 Create a program that removes all non-numeric characters from a list of strings using list \n",
    "   comprehension.'''\n",
    "\n",
    "lst = eval(input(\"Enter a list of strings\"))\n",
    "num_lst = [\"1\",\"2\",\"3\",\"4\",\"5\",\"6\",\"7\",\"8\",\"9\",\"0\"]\n",
    "new_lst = [int(j) for i in lst for j in i if j in num_lst]\n",
    "print(new_lst)"
   ]
  },
  {
   "cell_type": "code",
   "execution_count": null,
   "id": "41fffbbe-0a00-4ace-a852-bb3eba56dc97",
   "metadata": {},
   "outputs": [],
   "source": []
  },
  {
   "cell_type": "code",
   "execution_count": 42,
   "id": "b6855a71-8f34-49a7-b39a-4cb383a4ffba",
   "metadata": {},
   "outputs": [],
   "source": [
    "# Challenge Level:"
   ]
  },
  {
   "cell_type": "code",
   "execution_count": 48,
   "id": "8934506f-074c-408a-9885-c17a6df9c2d2",
   "metadata": {},
   "outputs": [
    {
     "name": "stdin",
     "output_type": "stream",
     "text": [
      "Enter a number : 30\n"
     ]
    },
    {
     "name": "stdout",
     "output_type": "stream",
     "text": [
      "Following are the prime numbers smaller\n",
      "than or equal to 30\n",
      "2\n",
      "3\n",
      "5\n",
      "7\n",
      "11\n",
      "13\n",
      "17\n",
      "19\n",
      "23\n",
      "29\n"
     ]
    }
   ],
   "source": [
    "'''Q31 Write a program to generate a list of prime numbers using the Sieve of Eratosthenes algorithm and list\n",
    "   comprehension.'''\n",
    "\n",
    "def SieveOfEratosthenes(num):\n",
    "\tprime = [True for i in range(num+1)]\n",
    "\tp = 2\n",
    "\twhile (p * p <= num) :\n",
    "\t\tif (prime[p] == True) :\n",
    "\t\t\tfor i in range(p * p, num+1, p) :\n",
    "\t\t\t\tprime[i] = False\n",
    "\t\tp += 1\n",
    "\n",
    "\tfor p in range(2, num+1) :\n",
    "\t\tif prime[p]:\n",
    "\t\t\tprint(p)\n",
    "\n",
    "num = int(input(\"Enter a number :\"))\n",
    "print(\"Following are the prime numbers smaller\"),\n",
    "print(\"than or equal to\", num)\n",
    "SieveOfEratosthenes(num)"
   ]
  },
  {
   "cell_type": "code",
   "execution_count": 18,
   "id": "08837017-24ce-49a0-b29a-138f3c549e8d",
   "metadata": {},
   "outputs": [
    {
     "name": "stdin",
     "output_type": "stream",
     "text": [
      "Enter the limit to generate Pythagorean triplets : 50\n"
     ]
    },
    {
     "name": "stdout",
     "output_type": "stream",
     "text": [
      "[(3, 4, 5), (5, 12, 13), (6, 8, 10), (7, 24, 25), (8, 15, 17), (9, 12, 15), (9, 40, 41), (10, 24, 26), (12, 16, 20), (12, 35, 37), (14, 48, 50), (15, 20, 25), (15, 36, 39), (16, 30, 34), (18, 24, 30), (20, 21, 29), (21, 28, 35), (24, 32, 40), (27, 36, 45), (30, 40, 50)]\n"
     ]
    }
   ],
   "source": [
    "'''Q32 Create a program that generates a list of all Pythagorean triplets up to a specified limit using list\n",
    "comprehension.'''\n",
    "\n",
    "def generate_pythagorean_triplets(limit) :\n",
    "    # Generate the list of triplets (a, b, c) where 1 <= a < b < c <= limit\n",
    "    triplets = [\n",
    "        (a, b, c)\n",
    "        for a in range(1, limit + 1)\n",
    "        for b in range(a + 1, limit + 1)\n",
    "        for c in range(b + 1, limit + 1)\n",
    "        if a**2 + b**2 == c**2\n",
    "    ]\n",
    "    return triplets\n",
    "\n",
    "limit = int(input(\"Enter the limit to generate Pythagorean triplets :\"))\n",
    "print(generate_pythagorean_triplets(limit))"
   ]
  },
  {
   "cell_type": "code",
   "execution_count": 19,
   "id": "3ec00243-ac64-46c9-a76e-d7a96b859dc1",
   "metadata": {},
   "outputs": [
    {
     "name": "stdin",
     "output_type": "stream",
     "text": [
      "Enter 1st list : [1,2,3,4,5]\n",
      "Enter 2nd list : [\"a\",\"b\",\"c\"]\n"
     ]
    },
    {
     "name": "stdout",
     "output_type": "stream",
     "text": [
      "List of all possible combinations of two lists :\n",
      "[(1, 'a'), (1, 'b'), (1, 'c'), (2, 'a'), (2, 'b'), (2, 'c'), (3, 'a'), (3, 'b'), (3, 'c'), (4, 'a'), (4, 'b'), (4, 'c'), (5, 'a'), (5, 'b'), (5, 'c')]\n"
     ]
    }
   ],
   "source": [
    "'''Q33 Develop a program that generates a list of all possible combinations of two lists using list \n",
    "   comprehension.'''\n",
    "\n",
    "lst_1 = eval(input(\"Enter 1st list :\"))\n",
    "lst_2 = eval(input(\"Enter 2nd list :\"))\n",
    "new_lst = [(i,j) for i in lst_1 for j in lst_2]\n",
    "\n",
    "print(\"List of all possible combinations of two lists :\")\n",
    "print(new_lst)"
   ]
  },
  {
   "cell_type": "code",
   "execution_count": 9,
   "id": "2e5053b5-e234-4e3e-bc29-31830764927b",
   "metadata": {},
   "outputs": [
    {
     "name": "stdin",
     "output_type": "stream",
     "text": [
      "Enter a list of numbers:  [6,4,3,23,1,2,35,53,1,2,3,7,8,9,10]\n"
     ]
    },
    {
     "name": "stdout",
     "output_type": "stream",
     "text": [
      "Mean of the given list: 11.133333333333333\n",
      "Median of the given list : 6\n",
      "Mode(s) of the given list: [1, 2, 3]\n",
      "Frequency of Mode(s): 2\n"
     ]
    }
   ],
   "source": [
    "'''Q34 Write a program that calculates the mean, median, and mode of a list of numbers using list\n",
    "comprehension.'''\n",
    "\n",
    "from collections import Counter\n",
    "\n",
    "# Input: list of numbers\n",
    "lst = eval(input(\"Enter a list of numbers: \"))\n",
    "\n",
    "# Calculate Mean\n",
    "mean = [sum(lst) / len(lst) if lst else None]\n",
    "print(\"Mean of the given list:\", mean[0])\n",
    "\n",
    "# Calculate Median\n",
    "lst.sort()\n",
    "l = len(lst)\n",
    "median = [(lst[l//2 - 1] + lst[l//2]) / 2 if l % 2 == 0 else lst[l//2] ]\n",
    "print(\"Median of the given list :\", median[0])\n",
    "\n",
    "# Calculate Mode\n",
    "count = Counter(lst)\n",
    "max_frequency = max(count.values())\n",
    "modes = [num for num , freq in count.items() if freq == max_frequency]\n",
    "\n",
    "print(\"Mode(s) of the given list:\", modes)\n",
    "print(\"Frequency of Mode(s):\", max_frequency)"
   ]
  },
  {
   "cell_type": "code",
   "execution_count": 3,
   "id": "7ffb84f3-569d-417b-8726-7909ad8b4013",
   "metadata": {},
   "outputs": [
    {
     "name": "stdin",
     "output_type": "stream",
     "text": [
      "Enter number of rows of Pascal's Triangle : 10\n"
     ]
    },
    {
     "name": "stdout",
     "output_type": "stream",
     "text": [
      "[1]\n",
      "[1, 1]\n",
      "[1, 2, 1]\n",
      "[1, 3, 3, 1]\n",
      "[1, 4, 6, 4, 1]\n",
      "[1, 5, 10, 10, 5, 1]\n",
      "[1, 6, 15, 20, 15, 6, 1]\n",
      "[1, 7, 21, 35, 35, 21, 7, 1]\n",
      "[1, 8, 28, 56, 70, 56, 28, 8, 1]\n",
      "[1, 9, 36, 84, 126, 126, 84, 36, 9, 1]\n"
     ]
    }
   ],
   "source": [
    "'''Q35 Create a program that generates Pascal's triangle up to a specified number of rows using list\n",
    "comprehension.'''\n",
    "\n",
    "def generate_pascals_triangle(num_rows):\n",
    "    if num_rows <= 0:\n",
    "        return []\n",
    "\n",
    "    triangle = [[1]]\n",
    "\n",
    "    for j in range(1, num_rows):\n",
    "        prev_row = triangle[-1]\n",
    "        new_row = [1] + [prev_row[i] + prev_row[i + 1] for i in range(len(prev_row) - 1)] + [1]\n",
    "        triangle.append(new_row)\n",
    "\n",
    "    return triangle\n",
    "\n",
    "\n",
    "num_rows = int(input(\"Enter number of rows of Pascal's Triangle :\"))\n",
    "triangle = generate_pascals_triangle(num_rows)\n",
    "for row in triangle:\n",
    "    print(row)"
   ]
  },
  {
   "cell_type": "code",
   "execution_count": 36,
   "id": "f182d2c7-2b84-4a45-9e73-f96cd2561041",
   "metadata": {},
   "outputs": [
    {
     "name": "stdout",
     "output_type": "stream",
     "text": [
      "[1, 1, 2, 6, 6, 3]\n"
     ]
    }
   ],
   "source": [
    "'''Q36 Develop a program that calculates the sum of the digits of a factorial of numbers from 1 to 5 using list\n",
    "comprehension.'''\n",
    "\n",
    "def fact_num(n) :\n",
    "    if n == 0 :\n",
    "        return 1\n",
    "    else :\n",
    "        return n*fact_num(n-1)\n",
    "\n",
    "n = 5\n",
    "lst = [fact_num(i) for i in range(n+1)]\n",
    "sum_lst = [sum((int(digit)) for digit in str(element)) for element in lst]\n",
    "print(sum_lst)"
   ]
  },
  {
   "cell_type": "code",
   "execution_count": 6,
   "id": "41e053f1-695f-48e9-b73c-bc3bfcf4ea0b",
   "metadata": {},
   "outputs": [
    {
     "name": "stdin",
     "output_type": "stream",
     "text": [
      "Enter a sentence : Hello world . How are you ! I am fine .\n"
     ]
    },
    {
     "name": "stdout",
     "output_type": "stream",
     "text": [
      "Longest word(s) in given sentence : ['Hello', 'world']\n"
     ]
    }
   ],
   "source": [
    "'''Q37 Write a program that finds the longest word in a sentence using list comprehension.'''\n",
    "\n",
    "longest_words = []\n",
    "sentence = input(\"Enter a sentence :\")\n",
    "longest_word_length = [len(i) for i in sentence.split()]\n",
    "longest_word_index = longest_word_length.index(max(longest_word_length))\n",
    "lst = [i for i in longest_word_length if i == len(sentence.split()[3])]\n",
    "longestWordList = [longest_words.append(sentence.split()[j]) for j in range(len(sentence.split())) if len(sentence.split()[j]) == len(sentence.split()[longest_word_index])]\n",
    "print(\"Longest word(s) in given sentence :\", longest_words)"
   ]
  },
  {
   "cell_type": "code",
   "execution_count": 32,
   "id": "c56158f1-6b9e-41b0-8c8d-505f2c7b57ff",
   "metadata": {},
   "outputs": [
    {
     "name": "stdin",
     "output_type": "stream",
     "text": [
      "Enter a list of strings:  [\"Helloau\",\"Goinoga\",\"World\",\"Come\"]\n"
     ]
    },
    {
     "name": "stdout",
     "output_type": "stream",
     "text": [
      "['Helloau', 'Goinoga']\n"
     ]
    }
   ],
   "source": [
    "'''Q38 Create a program that filters a list of strings to include only those with more than three vowels using\n",
    "   list comprehension.'''\n",
    "\n",
    "def count_vowels(string):\n",
    "    vowels = \"aeiou\"\n",
    "    return sum(1 for char in string.lower() if char in vowels)\n",
    "\n",
    "def filter_strings(lst):\n",
    "    return [string for string in lst if count_vowels(string) > 3]\n",
    "\n",
    "# Get a list of strings from user input\n",
    "lst_string = eval(input(\"Enter a list of strings: \"))\n",
    "\n",
    "# Apply the filter\n",
    "filtered_lst = filter_strings(lst_string)\n",
    "print(filtered_lst)"
   ]
  },
  {
   "cell_type": "code",
   "execution_count": 38,
   "id": "679effdf-60a1-4d00-a946-d47069a7a3bc",
   "metadata": {},
   "outputs": [
    {
     "name": "stdout",
     "output_type": "stream",
     "text": [
      "[1, 2, 3, 4, 5, 6, 7, 8, 9, 1, 2, 3, 4, 5, 6, 7, 8, 9, 10, 2, 3, 4, 5, 6, 7, 8, 9, 10, 11, 3, 4, 5, 6, 7, 8, 9, 10, 11, 12, 4, 5, 6, 7, 8, 9, 10, 11, 12, 13, 5, 6, 7, 8, 9, 10, 11, 12, 13, 14, 6, 7, 8, 9, 10, 11, 12, 13, 14, 15, 7, 8, 9, 10, 11, 12, 13, 14, 15, 16, 8, 9, 10, 11, 12, 13, 14, 15, 16, 17, 9, 10, 11, 12, 13, 14, 15, 16, 17, 18, 1, 2, 3, 4, 5, 6, 7, 8, 9, 10, 2, 3, 4, 5, 6, 7, 8, 9, 10, 11, 3, 4, 5, 6, 7, 8, 9, 10, 11, 12, 4, 5, 6, 7, 8, 9, 10, 11, 12, 13, 5, 6, 7, 8, 9, 10, 11, 12, 13, 14, 6, 7, 8, 9, 10, 11, 12, 13, 14, 15, 7, 8, 9, 10, 11, 12, 13, 14, 15, 16, 8, 9, 10, 11, 12, 13, 14, 15, 16, 17, 9, 10, 11, 12, 13, 14, 15, 16, 17, 18, 10, 11, 12, 13, 14, 15, 16, 17, 18, 19, 2, 3, 4, 5, 6, 7, 8, 9, 10, 11, 3, 4, 5, 6, 7, 8, 9, 10, 11, 12, 4, 5, 6, 7, 8, 9, 10, 11, 12, 13, 5, 6, 7, 8, 9, 10, 11, 12, 13, 14, 6, 7, 8, 9, 10, 11, 12, 13, 14, 15, 7, 8, 9, 10, 11, 12, 13, 14, 15, 16, 8, 9, 10, 11, 12, 13, 14, 15, 16, 17, 9, 10, 11, 12, 13, 14, 15, 16, 17, 18, 10, 11, 12, 13, 14, 15, 16, 17, 18, 19, 11, 12, 13, 14, 15, 16, 17, 18, 19, 20, 3, 4, 5, 6, 7, 8, 9, 10, 11, 12, 4, 5, 6, 7, 8, 9, 10, 11, 12, 13, 5, 6, 7, 8, 9, 10, 11, 12, 13, 14, 6, 7, 8, 9, 10, 11, 12, 13, 14, 15, 7, 8, 9, 10, 11, 12, 13, 14, 15, 16, 8, 9, 10, 11, 12, 13, 14, 15, 16, 17, 9, 10, 11, 12, 13, 14, 15, 16, 17, 18, 10, 11, 12, 13, 14, 15, 16, 17, 18, 19, 11, 12, 13, 14, 15, 16, 17, 18, 19, 20, 12, 13, 14, 15, 16, 17, 18, 19, 20, 21, 4, 5, 6, 7, 8, 9, 10, 11, 12, 13, 5, 6, 7, 8, 9, 10, 11, 12, 13, 14, 6, 7, 8, 9, 10, 11, 12, 13, 14, 15, 7, 8, 9, 10, 11, 12, 13, 14, 15, 16, 8, 9, 10, 11, 12, 13, 14, 15, 16, 17, 9, 10, 11, 12, 13, 14, 15, 16, 17, 18, 10, 11, 12, 13, 14, 15, 16, 17, 18, 19, 11, 12, 13, 14, 15, 16, 17, 18, 19, 20, 12, 13, 14, 15, 16, 17, 18, 19, 20, 21, 13, 14, 15, 16, 17, 18, 19, 20, 21, 22, 5, 6, 7, 8, 9, 10, 11, 12, 13, 14, 6, 7, 8, 9, 10, 11, 12, 13, 14, 15, 7, 8, 9, 10, 11, 12, 13, 14, 15, 16, 8, 9, 10, 11, 12, 13, 14, 15, 16, 17, 9, 10, 11, 12, 13, 14, 15, 16, 17, 18, 10, 11, 12, 13, 14, 15, 16, 17, 18, 19, 11, 12, 13, 14, 15, 16, 17, 18, 19, 20, 12, 13, 14, 15, 16, 17, 18, 19, 20, 21, 13, 14, 15, 16, 17, 18, 19, 20, 21, 22, 14, 15, 16, 17, 18, 19, 20, 21, 22, 23, 6, 7, 8, 9, 10, 11, 12, 13, 14, 15, 7, 8, 9, 10, 11, 12, 13, 14, 15, 16, 8, 9, 10, 11, 12, 13, 14, 15, 16, 17, 9, 10, 11, 12, 13, 14, 15, 16, 17, 18, 10, 11, 12, 13, 14, 15, 16, 17, 18, 19, 11, 12, 13, 14, 15, 16, 17, 18, 19, 20, 12, 13, 14, 15, 16, 17, 18, 19, 20, 21, 13, 14, 15, 16, 17, 18, 19, 20, 21, 22, 14, 15, 16, 17, 18, 19, 20, 21, 22, 23, 15, 16, 17, 18, 19, 20, 21, 22, 23, 24, 7, 8, 9, 10, 11, 12, 13, 14, 15, 16, 8, 9, 10, 11, 12, 13, 14, 15, 16, 17, 9, 10, 11, 12, 13, 14, 15, 16, 17, 18, 10, 11, 12, 13, 14, 15, 16, 17, 18, 19, 11, 12, 13, 14, 15, 16, 17, 18, 19, 20, 12, 13, 14, 15, 16, 17, 18, 19, 20, 21, 13, 14, 15, 16, 17, 18, 19, 20, 21, 22, 14, 15, 16, 17, 18, 19, 20, 21, 22, 23, 15, 16, 17, 18, 19, 20, 21, 22, 23, 24, 16, 17, 18, 19, 20, 21, 22, 23, 24, 25, 8, 9, 10, 11, 12, 13, 14, 15, 16, 17, 9, 10, 11, 12, 13, 14, 15, 16, 17, 18, 10, 11, 12, 13, 14, 15, 16, 17, 18, 19, 11, 12, 13, 14, 15, 16, 17, 18, 19, 20, 12, 13, 14, 15, 16, 17, 18, 19, 20, 21, 13, 14, 15, 16, 17, 18, 19, 20, 21, 22, 14, 15, 16, 17, 18, 19, 20, 21, 22, 23, 15, 16, 17, 18, 19, 20, 21, 22, 23, 24, 16, 17, 18, 19, 20, 21, 22, 23, 24, 25, 17, 18, 19, 20, 21, 22, 23, 24, 25, 26, 9, 10, 11, 12, 13, 14, 15, 16, 17, 18, 10, 11, 12, 13, 14, 15, 16, 17, 18, 19, 11, 12, 13, 14, 15, 16, 17, 18, 19, 20, 12, 13, 14, 15, 16, 17, 18, 19, 20, 21, 13, 14, 15, 16, 17, 18, 19, 20, 21, 22, 14, 15, 16, 17, 18, 19, 20, 21, 22, 23, 15, 16, 17, 18, 19, 20, 21, 22, 23, 24, 16, 17, 18, 19, 20, 21, 22, 23, 24, 25, 17, 18, 19, 20, 21, 22, 23, 24, 25, 26, 18, 19, 20, 21, 22, 23, 24, 25, 26, 27, 1]\n"
     ]
    }
   ],
   "source": [
    "'''Q39 Develop a program that calculates the sum of the digits of numbers from 1 to 1000 using list\n",
    "   comprehension.'''\n",
    "\n",
    "sum_lst = [sum(int(digit) for digit in str(element)) for element in range(1,1001)]\n",
    "print(sum_lst)"
   ]
  },
  {
   "cell_type": "code",
   "execution_count": 39,
   "id": "dc8eeb5e-9a0c-4490-9ac1-0e1ac8c0b5a4",
   "metadata": {},
   "outputs": [
    {
     "name": "stdin",
     "output_type": "stream",
     "text": [
      "Enter limit to generate list of prime palindromic numbers : 1000\n"
     ]
    },
    {
     "name": "stdout",
     "output_type": "stream",
     "text": [
      "[2, 3, 5, 7, 11, 101, 131, 151, 181, 191, 313, 353, 373, 383, 727, 757, 787, 797, 919, 929]\n"
     ]
    }
   ],
   "source": [
    "'''Q40 Write a program that generates a list of prime palindromic numbers using list comprehension.'''\n",
    "\n",
    "def is_palindrome(n):\n",
    "    s = str(n)\n",
    "    return s == s[::-1]\n",
    "\n",
    "def is_prime(n):\n",
    "    if n <= 1:\n",
    "        return False\n",
    "    if n <= 3:\n",
    "        return True\n",
    "    if n % 2 == 0 or n % 3 == 0:\n",
    "        return False\n",
    "    i = 5\n",
    "    while i * i <= n:\n",
    "        if n % i == 0 or n % (i + 2) == 0:\n",
    "            return False\n",
    "        i += 6\n",
    "    return True\n",
    "\n",
    "def generate_prime_palindromes(limit):\n",
    "    return [num for num in range(2, limit) if is_palindrome(num) and is_prime(num)]\n",
    "\n",
    "limit = int(input(\"Enter limit to generate list of prime palindromic numbers :\"))\n",
    "prime_palindromes = generate_prime_palindromes(limit)\n",
    "print(prime_palindromes)"
   ]
  },
  {
   "cell_type": "code",
   "execution_count": null,
   "id": "c7d81fdc-5bd4-49bd-8460-d2be35185815",
   "metadata": {},
   "outputs": [],
   "source": []
  }
 ],
 "metadata": {
  "kernelspec": {
   "display_name": "Python 3 (ipykernel)",
   "language": "python",
   "name": "python3"
  },
  "language_info": {
   "codemirror_mode": {
    "name": "ipython",
    "version": 3
   },
   "file_extension": ".py",
   "mimetype": "text/x-python",
   "name": "python",
   "nbconvert_exporter": "python",
   "pygments_lexer": "ipython3",
   "version": "3.10.8"
  }
 },
 "nbformat": 4,
 "nbformat_minor": 5
}
